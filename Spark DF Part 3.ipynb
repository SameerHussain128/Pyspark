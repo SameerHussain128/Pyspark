{
 "cells": [
  {
   "cell_type": "markdown",
   "id": "7e2201c8",
   "metadata": {},
   "source": [
    "### Pyspark Dataframe\n",
    "* Filter Operations\n",
    "* & | ==\n",
    "* `"
   ]
  },
  {
   "cell_type": "code",
   "execution_count": 1,
   "id": "57407787",
   "metadata": {},
   "outputs": [],
   "source": [
    "from pyspark.sql import SparkSession"
   ]
  },
  {
   "cell_type": "code",
   "execution_count": 2,
   "id": "b6086b3c",
   "metadata": {},
   "outputs": [],
   "source": [
    "spark=SparkSession.builder.appName('Dataframe').getOrCreate()"
   ]
  },
  {
   "cell_type": "code",
   "execution_count": 3,
   "id": "4d2fab8e",
   "metadata": {},
   "outputs": [
    {
     "data": {
      "text/html": [
       "\n",
       "            <div>\n",
       "                <p><b>SparkSession - in-memory</b></p>\n",
       "                \n",
       "        <div>\n",
       "            <p><b>SparkContext</b></p>\n",
       "\n",
       "            <p><a href=\"http://Laptop-Sameer:4040\">Spark UI</a></p>\n",
       "\n",
       "            <dl>\n",
       "              <dt>Version</dt>\n",
       "                <dd><code>v3.3.2</code></dd>\n",
       "              <dt>Master</dt>\n",
       "                <dd><code>local[*]</code></dd>\n",
       "              <dt>AppName</dt>\n",
       "                <dd><code>Dataframe</code></dd>\n",
       "            </dl>\n",
       "        </div>\n",
       "        \n",
       "            </div>\n",
       "        "
      ],
      "text/plain": [
       "<pyspark.sql.session.SparkSession at 0x22b09607e80>"
      ]
     },
     "execution_count": 3,
     "metadata": {},
     "output_type": "execute_result"
    }
   ],
   "source": [
    "spark"
   ]
  },
  {
   "cell_type": "code",
   "execution_count": 4,
   "id": "9818f89e",
   "metadata": {},
   "outputs": [],
   "source": [
    "# Read the dataset\n",
    "df_pyspark=spark.read.option('header','true').csv(r'C:\\Users\\SAMEER\\OneDrive\\Desktop\\Data Science 6pm\\Spark\\sample.csv', inferSchema=True)"
   ]
  },
  {
   "cell_type": "code",
   "execution_count": 5,
   "id": "5c2f9cb0",
   "metadata": {},
   "outputs": [
    {
     "name": "stdout",
     "output_type": "stream",
     "text": [
      "+-----+---+----------+------+\n",
      "| Name|Age|Experience|Salary|\n",
      "+-----+---+----------+------+\n",
      "| John| 38|         9| 35000|\n",
      "|Roman| 37|         7| 30000|\n",
      "| Rock| 40|        10| 40000|\n",
      "|orton| 37|         8| 33000|\n",
      "| Seth| 30|         5| 26000|\n",
      "| Dean| 29|         4| 25000|\n",
      "+-----+---+----------+------+\n",
      "\n"
     ]
    }
   ],
   "source": [
    "df_pyspark.show()"
   ]
  },
  {
   "cell_type": "markdown",
   "id": "22f0d003",
   "metadata": {},
   "source": [
    "## Filter Operations "
   ]
  },
  {
   "cell_type": "code",
   "execution_count": 6,
   "id": "e6cd525e",
   "metadata": {},
   "outputs": [
    {
     "name": "stdout",
     "output_type": "stream",
     "text": [
      "+-----+---+----------+------+\n",
      "| Name|Age|Experience|Salary|\n",
      "+-----+---+----------+------+\n",
      "|Roman| 37|         7| 30000|\n",
      "| Seth| 30|         5| 26000|\n",
      "| Dean| 29|         4| 25000|\n",
      "+-----+---+----------+------+\n",
      "\n"
     ]
    }
   ],
   "source": [
    "# Salary of the people less than or equal to 30000\n",
    "df_pyspark.filter(\"Salary<=30000\").show()"
   ]
  },
  {
   "cell_type": "code",
   "execution_count": 7,
   "id": "6a24aeb4",
   "metadata": {},
   "outputs": [
    {
     "name": "stdout",
     "output_type": "stream",
     "text": [
      "+-----+---+\n",
      "| Name|Age|\n",
      "+-----+---+\n",
      "|Roman| 37|\n",
      "| Seth| 30|\n",
      "| Dean| 29|\n",
      "+-----+---+\n",
      "\n"
     ]
    }
   ],
   "source": [
    "df_pyspark.filter(\"Salary<=30000\").select(['Name','Age']).show()"
   ]
  },
  {
   "cell_type": "code",
   "execution_count": 8,
   "id": "a0d754b8",
   "metadata": {},
   "outputs": [
    {
     "name": "stdout",
     "output_type": "stream",
     "text": [
      "+-----+---+----------+------+\n",
      "| Name|Age|Experience|Salary|\n",
      "+-----+---+----------+------+\n",
      "|Roman| 37|         7| 30000|\n",
      "| Seth| 30|         5| 26000|\n",
      "| Dean| 29|         4| 25000|\n",
      "+-----+---+----------+------+\n",
      "\n"
     ]
    }
   ],
   "source": [
    "df_pyspark.filter(df_pyspark['Salary']<=30000).show()"
   ]
  },
  {
   "cell_type": "code",
   "execution_count": 11,
   "id": "f1aa230c",
   "metadata": {},
   "outputs": [
    {
     "name": "stdout",
     "output_type": "stream",
     "text": [
      "+-----+---+----------+------+\n",
      "| Name|Age|Experience|Salary|\n",
      "+-----+---+----------+------+\n",
      "| John| 38|         9| 35000|\n",
      "|Roman| 37|         7| 30000|\n",
      "|orton| 37|         8| 33000|\n",
      "+-----+---+----------+------+\n",
      "\n"
     ]
    }
   ],
   "source": [
    "df_pyspark.filter((df_pyspark['Salary']<=38000) & \n",
    "                  (df_pyspark['Salary']>=28000)).show()"
   ]
  },
  {
   "cell_type": "code",
   "execution_count": 12,
   "id": "f2070592",
   "metadata": {},
   "outputs": [
    {
     "name": "stdout",
     "output_type": "stream",
     "text": [
      "+-----+---+----------+------+\n",
      "| Name|Age|Experience|Salary|\n",
      "+-----+---+----------+------+\n",
      "| John| 38|         9| 35000|\n",
      "|Roman| 37|         7| 30000|\n",
      "| Rock| 40|        10| 40000|\n",
      "|orton| 37|         8| 33000|\n",
      "| Seth| 30|         5| 26000|\n",
      "| Dean| 29|         4| 25000|\n",
      "+-----+---+----------+------+\n",
      "\n"
     ]
    }
   ],
   "source": [
    "df_pyspark.filter((df_pyspark['Salary']<=38000) |\n",
    "                  (df_pyspark['Salary']>=28000)).show()"
   ]
  },
  {
   "cell_type": "code",
   "execution_count": 13,
   "id": "3f032033",
   "metadata": {},
   "outputs": [
    {
     "name": "stdout",
     "output_type": "stream",
     "text": [
      "+-----+---+----------+------+\n",
      "| Name|Age|Experience|Salary|\n",
      "+-----+---+----------+------+\n",
      "| John| 38|         9| 35000|\n",
      "| Rock| 40|        10| 40000|\n",
      "|orton| 37|         8| 33000|\n",
      "+-----+---+----------+------+\n",
      "\n"
     ]
    }
   ],
   "source": [
    "df_pyspark.filter(~(df_pyspark['Salary']<=30000)).show()"
   ]
  },
  {
   "cell_type": "code",
   "execution_count": 14,
   "id": "e7422ac1",
   "metadata": {},
   "outputs": [
    {
     "name": "stdout",
     "output_type": "stream",
     "text": [
      "+-----+---+----------+------+\n",
      "| Name|Age|Experience|Salary|\n",
      "+-----+---+----------+------+\n",
      "| John| 38|         9| 35000|\n",
      "|Roman| 37|         7| 30000|\n",
      "| Rock| 40|        10| 40000|\n",
      "|orton| 37|         8| 33000|\n",
      "| Seth| 30|         5| 26000|\n",
      "+-----+---+----------+------+\n",
      "\n"
     ]
    }
   ],
   "source": [
    "df_pyspark.filter(~(df_pyspark['Salary']<=25000)).show()"
   ]
  },
  {
   "cell_type": "code",
   "execution_count": null,
   "id": "10bb03f7",
   "metadata": {},
   "outputs": [],
   "source": []
  }
 ],
 "metadata": {
  "kernelspec": {
   "display_name": "Python 3 (ipykernel)",
   "language": "python",
   "name": "python3"
  },
  "language_info": {
   "codemirror_mode": {
    "name": "ipython",
    "version": 3
   },
   "file_extension": ".py",
   "mimetype": "text/x-python",
   "name": "python",
   "nbconvert_exporter": "python",
   "pygments_lexer": "ipython3",
   "version": "3.9.13"
  }
 },
 "nbformat": 4,
 "nbformat_minor": 5
}
