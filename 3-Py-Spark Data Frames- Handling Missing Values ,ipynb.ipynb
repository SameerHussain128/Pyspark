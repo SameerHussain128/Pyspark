{
 "cells": [
  {
   "cell_type": "code",
   "execution_count": 1,
   "id": "48fe898d",
   "metadata": {},
   "outputs": [],
   "source": [
    "from pyspark.sql import SparkSession"
   ]
  },
  {
   "cell_type": "code",
   "execution_count": 2,
   "id": "f092b778",
   "metadata": {},
   "outputs": [],
   "source": [
    "spark=SparkSession.builder.appName('missing').getOrCreate()"
   ]
  },
  {
   "cell_type": "code",
   "execution_count": 3,
   "id": "d6c04c6c",
   "metadata": {},
   "outputs": [
    {
     "data": {
      "text/html": [
       "\n",
       "            <div>\n",
       "                <p><b>SparkSession - in-memory</b></p>\n",
       "                \n",
       "        <div>\n",
       "            <p><b>SparkContext</b></p>\n",
       "\n",
       "            <p><a href=\"http://Laptop-Sameer:4040\">Spark UI</a></p>\n",
       "\n",
       "            <dl>\n",
       "              <dt>Version</dt>\n",
       "                <dd><code>v3.3.2</code></dd>\n",
       "              <dt>Master</dt>\n",
       "                <dd><code>local[*]</code></dd>\n",
       "              <dt>AppName</dt>\n",
       "                <dd><code>missing</code></dd>\n",
       "            </dl>\n",
       "        </div>\n",
       "        \n",
       "            </div>\n",
       "        "
      ],
      "text/plain": [
       "<pyspark.sql.session.SparkSession at 0x28cb63acb80>"
      ]
     },
     "execution_count": 3,
     "metadata": {},
     "output_type": "execute_result"
    }
   ],
   "source": [
    "spark"
   ]
  },
  {
   "cell_type": "code",
   "execution_count": 4,
   "id": "4b925fae",
   "metadata": {},
   "outputs": [],
   "source": [
    "df_pyspark = spark.read.csv(r'C:\\Users\\SAMEER\\OneDrive\\Desktop\\Data Science 6pm\\March\\28th - pyspark project\\sample1.csv',header=True,inferSchema=True)"
   ]
  },
  {
   "cell_type": "code",
   "execution_count": 5,
   "id": "45dadd87",
   "metadata": {},
   "outputs": [
    {
     "name": "stdout",
     "output_type": "stream",
     "text": [
      "+----------+----+----------+------+\n",
      "|      Name| Age|Experience|Salary|\n",
      "+----------+----+----------+------+\n",
      "|      John|  38|         9| 35000|\n",
      "|     Roman|  37|         7| 30000|\n",
      "|      Rock|  40|        10| 40000|\n",
      "|     orton|  37|         8| 33000|\n",
      "|      Seth|  30|         5| 26000|\n",
      "|      Dean|  29|         4| 25000|\n",
      "|Undertaker|null|        13| 45000|\n",
      "|      null|  41|        12| 50000|\n",
      "|      Kane|null|      null| 45000|\n",
      "|      null|  38|         9|  null|\n",
      "|     Khali|  42|        10|  null|\n",
      "+----------+----+----------+------+\n",
      "\n"
     ]
    }
   ],
   "source": [
    "df_pyspark.show()"
   ]
  },
  {
   "cell_type": "code",
   "execution_count": 6,
   "id": "2b176da5",
   "metadata": {},
   "outputs": [
    {
     "name": "stdout",
     "output_type": "stream",
     "text": [
      "root\n",
      " |-- Name: string (nullable = true)\n",
      " |-- Age: integer (nullable = true)\n",
      " |-- Experience: integer (nullable = true)\n",
      " |-- Salary: integer (nullable = true)\n",
      "\n"
     ]
    }
   ],
   "source": [
    "df_pyspark.printSchema()"
   ]
  },
  {
   "cell_type": "code",
   "execution_count": 7,
   "id": "1c16cdcf",
   "metadata": {},
   "outputs": [
    {
     "name": "stdout",
     "output_type": "stream",
     "text": [
      "+----------+\n",
      "|      Name|\n",
      "+----------+\n",
      "|      John|\n",
      "|     Roman|\n",
      "|      Rock|\n",
      "|     orton|\n",
      "|      Seth|\n",
      "|      Dean|\n",
      "|Undertaker|\n",
      "|      null|\n",
      "|      Kane|\n",
      "|      null|\n",
      "|     Khali|\n",
      "+----------+\n",
      "\n"
     ]
    }
   ],
   "source": [
    "df_pyspark.select(['Name']).show()"
   ]
  },
  {
   "cell_type": "code",
   "execution_count": 8,
   "id": "fd033aaf",
   "metadata": {},
   "outputs": [
    {
     "name": "stdout",
     "output_type": "stream",
     "text": [
      "+-----+---+----------+------+\n",
      "| Name|Age|Experience|Salary|\n",
      "+-----+---+----------+------+\n",
      "| John| 38|         9| 35000|\n",
      "|Roman| 37|         7| 30000|\n",
      "| Rock| 40|        10| 40000|\n",
      "|orton| 37|         8| 33000|\n",
      "| Seth| 30|         5| 26000|\n",
      "| Dean| 29|         4| 25000|\n",
      "+-----+---+----------+------+\n",
      "\n"
     ]
    }
   ],
   "source": [
    "df_pyspark.na.drop().show()"
   ]
  },
  {
   "cell_type": "code",
   "execution_count": 9,
   "id": "a69202b5",
   "metadata": {},
   "outputs": [
    {
     "name": "stdout",
     "output_type": "stream",
     "text": [
      "+----------+----+----------+------+\n",
      "|      Name| Age|Experience|Salary|\n",
      "+----------+----+----------+------+\n",
      "|      John|  38|         9| 35000|\n",
      "|     Roman|  37|         7| 30000|\n",
      "|      Rock|  40|        10| 40000|\n",
      "|     orton|  37|         8| 33000|\n",
      "|      Seth|  30|         5| 26000|\n",
      "|      Dean|  29|         4| 25000|\n",
      "|Undertaker|null|        13| 45000|\n",
      "|      null|  41|        12| 50000|\n",
      "|      Kane|null|      null| 45000|\n",
      "|      null|  38|         9|  null|\n",
      "|     Khali|  42|        10|  null|\n",
      "+----------+----+----------+------+\n",
      "\n"
     ]
    }
   ],
   "source": [
    "df_pyspark.show()"
   ]
  },
  {
   "cell_type": "code",
   "execution_count": 10,
   "id": "70bfd239",
   "metadata": {},
   "outputs": [
    {
     "name": "stdout",
     "output_type": "stream",
     "text": [
      "+-----+---+----------+------+\n",
      "| Name|Age|Experience|Salary|\n",
      "+-----+---+----------+------+\n",
      "| John| 38|         9| 35000|\n",
      "|Roman| 37|         7| 30000|\n",
      "| Rock| 40|        10| 40000|\n",
      "|orton| 37|         8| 33000|\n",
      "| Seth| 30|         5| 26000|\n",
      "| Dean| 29|         4| 25000|\n",
      "+-----+---+----------+------+\n",
      "\n"
     ]
    }
   ],
   "source": [
    "df_pyspark.na.drop(how='any').show()"
   ]
  },
  {
   "cell_type": "code",
   "execution_count": 11,
   "id": "79b176f7",
   "metadata": {},
   "outputs": [
    {
     "name": "stdout",
     "output_type": "stream",
     "text": [
      "+----------+----+----------+------+\n",
      "|      Name| Age|Experience|Salary|\n",
      "+----------+----+----------+------+\n",
      "|      John|  38|         9| 35000|\n",
      "|     Roman|  37|         7| 30000|\n",
      "|      Rock|  40|        10| 40000|\n",
      "|     orton|  37|         8| 33000|\n",
      "|      Seth|  30|         5| 26000|\n",
      "|      Dean|  29|         4| 25000|\n",
      "|Undertaker|null|        13| 45000|\n",
      "|      null|  41|        12| 50000|\n",
      "|      Kane|null|      null| 45000|\n",
      "|      null|  38|         9|  null|\n",
      "|     Khali|  42|        10|  null|\n",
      "+----------+----+----------+------+\n",
      "\n"
     ]
    }
   ],
   "source": [
    "df_pyspark.na.drop(how='all').show()"
   ]
  },
  {
   "cell_type": "code",
   "execution_count": 12,
   "id": "87e6b1f5",
   "metadata": {},
   "outputs": [
    {
     "name": "stdout",
     "output_type": "stream",
     "text": [
      "+-----+---+----------+------+\n",
      "| Name|Age|Experience|Salary|\n",
      "+-----+---+----------+------+\n",
      "| John| 38|         9| 35000|\n",
      "|Roman| 37|         7| 30000|\n",
      "| Rock| 40|        10| 40000|\n",
      "|orton| 37|         8| 33000|\n",
      "| Seth| 30|         5| 26000|\n",
      "| Dean| 29|         4| 25000|\n",
      "| null| 41|        12| 50000|\n",
      "| null| 38|         9|  null|\n",
      "|Khali| 42|        10|  null|\n",
      "+-----+---+----------+------+\n",
      "\n"
     ]
    }
   ],
   "source": [
    "df_pyspark.na.drop(how='any',subset=['Age']).show()"
   ]
  },
  {
   "cell_type": "code",
   "execution_count": 13,
   "id": "40fc2b98",
   "metadata": {},
   "outputs": [
    {
     "name": "stdout",
     "output_type": "stream",
     "text": [
      "+-----+---+----------+------+\n",
      "| Name|Age|Experience|Salary|\n",
      "+-----+---+----------+------+\n",
      "| John| 38|         9| 35000|\n",
      "|Roman| 37|         7| 30000|\n",
      "| Rock| 40|        10| 40000|\n",
      "|orton| 37|         8| 33000|\n",
      "| Seth| 30|         5| 26000|\n",
      "| Dean| 29|         4| 25000|\n",
      "|Khali| 42|        10|  null|\n",
      "+-----+---+----------+------+\n",
      "\n"
     ]
    }
   ],
   "source": [
    "df_pyspark.na.drop(how='any',subset=['Name','Age']).show()"
   ]
  },
  {
   "cell_type": "code",
   "execution_count": 15,
   "id": "688cc934",
   "metadata": {},
   "outputs": [
    {
     "name": "stdout",
     "output_type": "stream",
     "text": [
      "+----------+----+----------+------+\n",
      "|      Name| Age|Experience|Salary|\n",
      "+----------+----+----------+------+\n",
      "|      John|  38|         9| 35000|\n",
      "|     Roman|  37|         7| 30000|\n",
      "|      Rock|  40|        10| 40000|\n",
      "|     orton|  37|         8| 33000|\n",
      "|      Seth|  30|         5| 26000|\n",
      "|      Dean|  29|         4| 25000|\n",
      "|Undertaker|null|        13| 45000|\n",
      "|      null|  41|        12| 50000|\n",
      "|      Kane|null|      null| 45000|\n",
      "|      null|  38|         9|  null|\n",
      "|     Khali|  42|        10|  null|\n",
      "+----------+----+----------+------+\n",
      "\n"
     ]
    }
   ],
   "source": [
    "df_pyspark.na.fill('Missing Values',['Experience','Age']).show()"
   ]
  },
  {
   "cell_type": "code",
   "execution_count": 17,
   "id": "b7c59fb0",
   "metadata": {},
   "outputs": [],
   "source": [
    "from pyspark.ml.feature import Imputer\n",
    "Imputer_mean = Imputer(\n",
    "    inputCols=['Age','Experience','Salary'],\n",
    "    outputCols=[\"{}_imputed\".format(c) for c in ['Age','Experience','Salary']]\n",
    ").setStrategy(\"mean\")"
   ]
  },
  {
   "cell_type": "code",
   "execution_count": 19,
   "id": "4c2dee36",
   "metadata": {},
   "outputs": [
    {
     "name": "stdout",
     "output_type": "stream",
     "text": [
      "+----------+----+----------+------+-----------+------------------+--------------+\n",
      "|      Name| Age|Experience|Salary|Age_imputed|Experience_imputed|Salary_imputed|\n",
      "+----------+----+----------+------+-----------+------------------+--------------+\n",
      "|      John|  38|         9| 35000|         38|                 9|         35000|\n",
      "|     Roman|  37|         7| 30000|         37|                 7|         30000|\n",
      "|      Rock|  40|        10| 40000|         40|                10|         40000|\n",
      "|     orton|  37|         8| 33000|         37|                 8|         33000|\n",
      "|      Seth|  30|         5| 26000|         30|                 5|         26000|\n",
      "|      Dean|  29|         4| 25000|         29|                 4|         25000|\n",
      "|Undertaker|null|        13| 45000|         36|                13|         45000|\n",
      "|      null|  41|        12| 50000|         41|                12|         50000|\n",
      "|      Kane|null|      null| 45000|         36|                 8|         45000|\n",
      "|      null|  38|         9|  null|         38|                 9|         36555|\n",
      "|     Khali|  42|        10|  null|         42|                10|         36555|\n",
      "+----------+----+----------+------+-----------+------------------+--------------+\n",
      "\n"
     ]
    }
   ],
   "source": [
    "Imputer_mean.fit(df_pyspark).transform(df_pyspark).show()"
   ]
  },
  {
   "cell_type": "code",
   "execution_count": 20,
   "id": "c22f188e",
   "metadata": {},
   "outputs": [],
   "source": [
    "Imputer_median = Imputer(\n",
    "    inputCols=['Age','Experience','Salary'],\n",
    "    outputCols=[\"{}_imputed\".format(c) for c in ['Age','Experience','Salary']]\n",
    ").setStrategy(\"median\")"
   ]
  },
  {
   "cell_type": "code",
   "execution_count": 21,
   "id": "ddd4aef0",
   "metadata": {},
   "outputs": [
    {
     "name": "stdout",
     "output_type": "stream",
     "text": [
      "+----------+----+----------+------+-----------+------------------+--------------+\n",
      "|      Name| Age|Experience|Salary|Age_imputed|Experience_imputed|Salary_imputed|\n",
      "+----------+----+----------+------+-----------+------------------+--------------+\n",
      "|      John|  38|         9| 35000|         38|                 9|         35000|\n",
      "|     Roman|  37|         7| 30000|         37|                 7|         30000|\n",
      "|      Rock|  40|        10| 40000|         40|                10|         40000|\n",
      "|     orton|  37|         8| 33000|         37|                 8|         33000|\n",
      "|      Seth|  30|         5| 26000|         30|                 5|         26000|\n",
      "|      Dean|  29|         4| 25000|         29|                 4|         25000|\n",
      "|Undertaker|null|        13| 45000|         38|                13|         45000|\n",
      "|      null|  41|        12| 50000|         41|                12|         50000|\n",
      "|      Kane|null|      null| 45000|         38|                 9|         45000|\n",
      "|      null|  38|         9|  null|         38|                 9|         35000|\n",
      "|     Khali|  42|        10|  null|         42|                10|         35000|\n",
      "+----------+----+----------+------+-----------+------------------+--------------+\n",
      "\n"
     ]
    }
   ],
   "source": [
    "Imputer_median.fit(df_pyspark).transform(df_pyspark).show()"
   ]
  },
  {
   "cell_type": "code",
   "execution_count": 25,
   "id": "3bd0e812",
   "metadata": {},
   "outputs": [],
   "source": [
    "Imputer_mode = Imputer(\n",
    "    inputCols=['Age','Experience','Salary'],\n",
    "    outputCols=[\"{}_imputed\".format(c) for c in ['Age','Experience','Salary']]\n",
    ").setStrategy(\"mode\")"
   ]
  },
  {
   "cell_type": "code",
   "execution_count": 26,
   "id": "0dd9b31e",
   "metadata": {},
   "outputs": [
    {
     "name": "stdout",
     "output_type": "stream",
     "text": [
      "+----------+----+----------+------+-----------+------------------+--------------+\n",
      "|      Name| Age|Experience|Salary|Age_imputed|Experience_imputed|Salary_imputed|\n",
      "+----------+----+----------+------+-----------+------------------+--------------+\n",
      "|      John|  38|         9| 35000|         38|                 9|         35000|\n",
      "|     Roman|  37|         7| 30000|         37|                 7|         30000|\n",
      "|      Rock|  40|        10| 40000|         40|                10|         40000|\n",
      "|     orton|  37|         8| 33000|         37|                 8|         33000|\n",
      "|      Seth|  30|         5| 26000|         30|                 5|         26000|\n",
      "|      Dean|  29|         4| 25000|         29|                 4|         25000|\n",
      "|Undertaker|null|        13| 45000|         37|                13|         45000|\n",
      "|      null|  41|        12| 50000|         41|                12|         50000|\n",
      "|      Kane|null|      null| 45000|         37|                 9|         45000|\n",
      "|      null|  38|         9|  null|         38|                 9|         45000|\n",
      "|     Khali|  42|        10|  null|         42|                10|         45000|\n",
      "+----------+----+----------+------+-----------+------------------+--------------+\n",
      "\n"
     ]
    }
   ],
   "source": [
    "Imputer_mode.fit(df_pyspark).transform(df_pyspark).show()"
   ]
  },
  {
   "cell_type": "code",
   "execution_count": null,
   "id": "8d4a347a",
   "metadata": {},
   "outputs": [],
   "source": []
  }
 ],
 "metadata": {
  "kernelspec": {
   "display_name": "Python 3 (ipykernel)",
   "language": "python",
   "name": "python3"
  },
  "language_info": {
   "codemirror_mode": {
    "name": "ipython",
    "version": 3
   },
   "file_extension": ".py",
   "mimetype": "text/x-python",
   "name": "python",
   "nbconvert_exporter": "python",
   "pygments_lexer": "ipython3",
   "version": "3.10.10"
  }
 },
 "nbformat": 4,
 "nbformat_minor": 5
}
