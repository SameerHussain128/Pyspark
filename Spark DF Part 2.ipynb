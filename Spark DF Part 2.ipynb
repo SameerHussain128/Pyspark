{
 "cells": [
  {
   "cell_type": "markdown",
   "id": "0ea45973",
   "metadata": {},
   "source": [
    "## Handlind missing values by Mean, Median and Moad"
   ]
  },
  {
   "cell_type": "code",
   "execution_count": 1,
   "id": "1dd9eba8",
   "metadata": {},
   "outputs": [],
   "source": [
    "from pyspark.sql import SparkSession\n",
    "spark=SparkSession.builder.appName('Practise').getOrCreate()"
   ]
  },
  {
   "cell_type": "code",
   "execution_count": 2,
   "id": "2ad75be9",
   "metadata": {},
   "outputs": [
    {
     "data": {
      "text/html": [
       "\n",
       "            <div>\n",
       "                <p><b>SparkSession - in-memory</b></p>\n",
       "                \n",
       "        <div>\n",
       "            <p><b>SparkContext</b></p>\n",
       "\n",
       "            <p><a href=\"http://Laptop-Sameer:4040\">Spark UI</a></p>\n",
       "\n",
       "            <dl>\n",
       "              <dt>Version</dt>\n",
       "                <dd><code>v3.3.2</code></dd>\n",
       "              <dt>Master</dt>\n",
       "                <dd><code>local[*]</code></dd>\n",
       "              <dt>AppName</dt>\n",
       "                <dd><code>Practise</code></dd>\n",
       "            </dl>\n",
       "        </div>\n",
       "        \n",
       "            </div>\n",
       "        "
      ],
      "text/plain": [
       "<pyspark.sql.session.SparkSession at 0x2258a867e50>"
      ]
     },
     "execution_count": 2,
     "metadata": {},
     "output_type": "execute_result"
    }
   ],
   "source": [
    "spark"
   ]
  },
  {
   "cell_type": "code",
   "execution_count": 3,
   "id": "01dfc86b",
   "metadata": {},
   "outputs": [],
   "source": [
    "# Read the dataset\n",
    "df_pyspark=df_pyspark=spark.read.option('header','true').csv(r'C:\\Users\\SAMEER\\OneDrive\\Desktop\\Data Science 6pm\\Spark\\sample2.csv', inferSchema=True)"
   ]
  },
  {
   "cell_type": "code",
   "execution_count": 4,
   "id": "33501bfe",
   "metadata": {},
   "outputs": [
    {
     "name": "stdout",
     "output_type": "stream",
     "text": [
      "+-----+----+----------+------+\n",
      "| Name| Age|Experience|Salary|\n",
      "+-----+----+----------+------+\n",
      "| John|  38|         9| 35000|\n",
      "|Roman|  37|      null| 30000|\n",
      "| Rock|  40|        10| 40000|\n",
      "|orton|null|         8| 33000|\n",
      "| Seth|  30|         5| 26000|\n",
      "| Dean|  29|         4| 25000|\n",
      "+-----+----+----------+------+\n",
      "\n"
     ]
    }
   ],
   "source": [
    "df_pyspark.show()"
   ]
  },
  {
   "cell_type": "code",
   "execution_count": 7,
   "id": "0d80e576",
   "metadata": {},
   "outputs": [
    {
     "name": "stdout",
     "output_type": "stream",
     "text": [
      "+----+----------+------+\n",
      "| Age|Experience|Salary|\n",
      "+----+----------+------+\n",
      "|  38|         9| 35000|\n",
      "|  37|      null| 30000|\n",
      "|  40|        10| 40000|\n",
      "|null|         8| 33000|\n",
      "|  30|         5| 26000|\n",
      "|  29|         4| 25000|\n",
      "+----+----------+------+\n",
      "\n"
     ]
    }
   ],
   "source": [
    "# Droping the Columns\n",
    "df_pyspark.drop('Name').show()\n",
    "\n",
    "# Here i didnt saved remember"
   ]
  },
  {
   "cell_type": "code",
   "execution_count": 8,
   "id": "c4c4742b",
   "metadata": {},
   "outputs": [
    {
     "name": "stdout",
     "output_type": "stream",
     "text": [
      "+-----+----+----------+------+\n",
      "| Name| Age|Experience|Salary|\n",
      "+-----+----+----------+------+\n",
      "| John|  38|         9| 35000|\n",
      "|Roman|  37|      null| 30000|\n",
      "| Rock|  40|        10| 40000|\n",
      "|orton|null|         8| 33000|\n",
      "| Seth|  30|         5| 26000|\n",
      "| Dean|  29|         4| 25000|\n",
      "+-----+----+----------+------+\n",
      "\n"
     ]
    }
   ],
   "source": [
    "df_pyspark.show()"
   ]
  },
  {
   "cell_type": "code",
   "execution_count": 10,
   "id": "82477223",
   "metadata": {},
   "outputs": [
    {
     "name": "stdout",
     "output_type": "stream",
     "text": [
      "+----+---+----------+------+\n",
      "|Name|Age|Experience|Salary|\n",
      "+----+---+----------+------+\n",
      "|John| 38|         9| 35000|\n",
      "|Rock| 40|        10| 40000|\n",
      "|Seth| 30|         5| 26000|\n",
      "|Dean| 29|         4| 25000|\n",
      "+----+---+----------+------+\n",
      "\n"
     ]
    }
   ],
   "source": [
    "df_pyspark.na.drop().show()    # Drop Null values Rows"
   ]
  },
  {
   "cell_type": "code",
   "execution_count": 17,
   "id": "2848bb6d",
   "metadata": {},
   "outputs": [
    {
     "name": "stdout",
     "output_type": "stream",
     "text": [
      "+-----+----+----------+------+\n",
      "| Name| Age|Experience|Salary|\n",
      "+-----+----+----------+------+\n",
      "| John|  38|         9| 35000|\n",
      "|Roman|  37|      null| 30000|\n",
      "| Rock|  40|        10| 40000|\n",
      "|orton|null|         8| 33000|\n",
      "| Seth|  30|         5| 26000|\n",
      "| Dean|  29|         4| 25000|\n",
      "+-----+----+----------+------+\n",
      "\n"
     ]
    }
   ],
   "source": [
    "# Filling the missing values\n",
    "df_pyspark.na.fill('missing values',['Experience','Age']).show()"
   ]
  },
  {
   "cell_type": "code",
   "execution_count": 18,
   "id": "0c48df2c",
   "metadata": {},
   "outputs": [
    {
     "data": {
      "text/plain": [
       "DataFrame[Name: string, Age: int, Experience: int, Salary: int]"
      ]
     },
     "execution_count": 18,
     "metadata": {},
     "output_type": "execute_result"
    }
   ],
   "source": [
    "df_pyspark"
   ]
  },
  {
   "cell_type": "code",
   "execution_count": 19,
   "id": "dbcdc5a4",
   "metadata": {},
   "outputs": [
    {
     "name": "stdout",
     "output_type": "stream",
     "text": [
      "+-----+----+----------+------+\n",
      "| Name| Age|Experience|Salary|\n",
      "+-----+----+----------+------+\n",
      "| John|  38|         9| 35000|\n",
      "|Roman|  37|      null| 30000|\n",
      "| Rock|  40|        10| 40000|\n",
      "|orton|null|         8| 33000|\n",
      "| Seth|  30|         5| 26000|\n",
      "| Dean|  29|         4| 25000|\n",
      "+-----+----+----------+------+\n",
      "\n"
     ]
    }
   ],
   "source": [
    "df_pyspark.show()"
   ]
  },
  {
   "cell_type": "code",
   "execution_count": 22,
   "id": "2eafd30d",
   "metadata": {},
   "outputs": [],
   "source": [
    "from pyspark.ml.feature import Imputer\n",
    "\n",
    "imputer = Imputer(\n",
    "    inputCols=['Age', 'Experience', 'Salary'], \n",
    "    outputCols=[\"{}_imputed\".format(c) for c in ['Age', 'Experience', 'Salary']]\n",
    "    ).setStrategy(\"mean\")"
   ]
  },
  {
   "cell_type": "code",
   "execution_count": 23,
   "id": "41daff22",
   "metadata": {},
   "outputs": [
    {
     "name": "stdout",
     "output_type": "stream",
     "text": [
      "+-----+----+----------+------+-----------+------------------+--------------+\n",
      "| Name| Age|Experience|Salary|Age_imputed|Experience_imputed|Salary_imputed|\n",
      "+-----+----+----------+------+-----------+------------------+--------------+\n",
      "| John|  38|         9| 35000|         38|                 9|         35000|\n",
      "|Roman|  37|      null| 30000|         37|                 7|         30000|\n",
      "| Rock|  40|        10| 40000|         40|                10|         40000|\n",
      "|orton|null|         8| 33000|         34|                 8|         33000|\n",
      "| Seth|  30|         5| 26000|         30|                 5|         26000|\n",
      "| Dean|  29|         4| 25000|         29|                 4|         25000|\n",
      "+-----+----+----------+------+-----------+------------------+--------------+\n",
      "\n"
     ]
    }
   ],
   "source": [
    "imputer.fit(df_pyspark).transform(df_pyspark).show()"
   ]
  },
  {
   "cell_type": "code",
   "execution_count": 24,
   "id": "b9874019",
   "metadata": {},
   "outputs": [],
   "source": [
    "from pyspark.ml.feature import Imputer\n",
    "\n",
    "imputer = Imputer(\n",
    "    inputCols=['Age', 'Experience', 'Salary'], \n",
    "    outputCols=[\"{}_imputed\".format(c) for c in ['Age', 'Experience', 'Salary']]\n",
    "    ).setStrategy(\"median\")"
   ]
  },
  {
   "cell_type": "code",
   "execution_count": 25,
   "id": "77d6fb47",
   "metadata": {},
   "outputs": [
    {
     "name": "stdout",
     "output_type": "stream",
     "text": [
      "+-----+----+----------+------+-----------+------------------+--------------+\n",
      "| Name| Age|Experience|Salary|Age_imputed|Experience_imputed|Salary_imputed|\n",
      "+-----+----+----------+------+-----------+------------------+--------------+\n",
      "| John|  38|         9| 35000|         38|                 9|         35000|\n",
      "|Roman|  37|      null| 30000|         37|                 8|         30000|\n",
      "| Rock|  40|        10| 40000|         40|                10|         40000|\n",
      "|orton|null|         8| 33000|         37|                 8|         33000|\n",
      "| Seth|  30|         5| 26000|         30|                 5|         26000|\n",
      "| Dean|  29|         4| 25000|         29|                 4|         25000|\n",
      "+-----+----+----------+------+-----------+------------------+--------------+\n",
      "\n"
     ]
    }
   ],
   "source": [
    "imputer.fit(df_pyspark).transform(df_pyspark).show()"
   ]
  },
  {
   "cell_type": "code",
   "execution_count": null,
   "id": "29641ca2",
   "metadata": {},
   "outputs": [],
   "source": []
  }
 ],
 "metadata": {
  "kernelspec": {
   "display_name": "Python 3 (ipykernel)",
   "language": "python",
   "name": "python3"
  },
  "language_info": {
   "codemirror_mode": {
    "name": "ipython",
    "version": 3
   },
   "file_extension": ".py",
   "mimetype": "text/x-python",
   "name": "python",
   "nbconvert_exporter": "python",
   "pygments_lexer": "ipython3",
   "version": "3.9.13"
  }
 },
 "nbformat": 4,
 "nbformat_minor": 5
}
